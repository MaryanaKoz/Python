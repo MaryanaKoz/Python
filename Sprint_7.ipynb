{
 "cells": [
  {
   "cell_type": "markdown",
   "metadata": {},
   "source": [
    "Nivel 1\n",
    "\n",
    "Exercici 1\n",
    "\n",
    "Calculadora de l'índex de massa corporal\n",
    "\n",
    "Escriu una funció que calculi l'IMC ingressat per l'usuari/ària, és a dir, qui ho executi haurà d'ingressar aquestes dades. Pots obtenir més informació del seu càlcul en:\n",
    "\n",
    "-> Índice de masa corporal IMC que es y como se calcula.\n",
    "\n",
    "La funció ha de classificar el resultat en les seves respectives categories"
   ]
  },
  {
   "cell_type": "code",
   "execution_count": 1,
   "metadata": {},
   "outputs": [],
   "source": [
    "def IMC(peso,altura):    \n",
    "    altura2 = (altura)**2\n",
    "    return peso/altura2   "
   ]
  },
  {
   "cell_type": "code",
   "execution_count": null,
   "metadata": {},
   "outputs": [
    {
     "name": "stdout",
     "output_type": "stream",
     "text": [
      "Su Indice de Masa Corporal es:20.76 y tiene PESO NORMAL\n"
     ]
    }
   ],
   "source": [
    "tu_peso = float(input(\"Inserte su peso en kg:\"))     \n",
    "tu_altura = float(input(\"Inserte su altura en m:\"))\n",
    "\n",
    "resultado = IMC(tu_peso, tu_altura)   \n",
    "\n",
    "if resultado < 18.5:\n",
    "    print(f\"Su Indice de Masa Corporal es:{resultado:.2f} y tiene BAJO PESO\")\n",
    "elif resultado < 24.9:\n",
    "    print(f\"Su Indice de Masa Corporal es:{resultado:.2f} y tiene PESO NORMAL\")\n",
    "elif resultado < 29.9:\n",
    "    print(f\"Su Indice de Masa Corporal es:{resultado:.2f} y tiene SOBREPESO\")\n",
    "else:\n",
    "    print(f\"Su Indice de Masa Corporal es:{resultado:.2f} y tiene OBESIDAD\")\n"
   ]
  },
  {
   "cell_type": "markdown",
   "metadata": {},
   "source": [
    "- Exercici 2\n",
    "Convertidor de temperatures.\n",
    "\n",
    "Existeixen diverses unitats de temperatura utilitzades en diferents contextos i regions. Les més comunes són Celsius (°C), Fahrenheit (°F) i Kelvin (K). També existeixen altres unitats com Rankine (°Ra) i Réaumur (°Re). Selecciona almenys 2 conversors, de tal manera que en introduir una temperatura retorni, com a mínim, dues conversions."
   ]
  },
  {
   "cell_type": "code",
   "execution_count": 2,
   "metadata": {},
   "outputs": [
    {
     "name": "stdout",
     "output_type": "stream",
     "text": [
      "Que unidades iniciales tienes: \n",
      "1.Celsius\n",
      "2.Fahrenheit\n",
      "3.Kelvin\n",
      "4.Rankine\n",
      "5.Réaumur\n",
      "La temperatura inicial es 30.0 Celsius\n",
      "30.0°C= 86.00°F = 303.15K = 545.67°R = 24.00°Ré\n"
     ]
    }
   ],
   "source": [
    "#llamamos el diccionario, para elegir las unidades iniciales\n",
    "print(\"Que unidades iniciales tienes: \")\n",
    "\n",
    "unidades={\n",
    "    1: \"Celsius\",\n",
    "    2 : \"Fahrenheit\",\n",
    "    3 : \"Kelvin\",\n",
    "    4 : \"Rankine\",\n",
    "    5 : \"Réaumur\"\n",
    "}\n",
    "\n",
    " #printeamos el diccionario en forma de \"lista\"\n",
    "\n",
    "for key, value in unidades.items():   \n",
    "    print(f\"{key}.{value}\")\n",
    "\n",
    "unidadInicial = int(input(\"Inserte el numero: \"))\n",
    "\n",
    "\n",
    "temperatura = float(input(\"Dame la tempratura:\"))\n",
    "print(f\"La temperatura inicial es {temperatura} {unidades.get(unidadInicial)}\")\n",
    "\n",
    "# definimos funciones de conversión para cada unidad\n",
    "\n",
    "def celsiusAfahrenheit(t): return (t * 1.8) + 32\n",
    "def celsiusAkelvin(t): return t + 273.15\n",
    "def celsiusArankine(t): return 1.8 * (t + 273.15)\n",
    "def celsiusAreaumur(t): return t * 0.8\n",
    "\n",
    "def fahrenheitAcelsius(t): return (t - 32) / 1.8\n",
    "def fahrenheitAkelvin(t): return (t - 32) / 1.8 + 273.15\n",
    "def fahrenheitArankine(t): return t + 459.67\n",
    "def fahrenheitAreaumur(t): return (t - 32) * 4 / 9\n",
    "\n",
    "def kelvinAcelsius(t): return t - 273.15\n",
    "def kelvinAfahrenheit(t): return (t - 273.15) * 1.8 + 32\n",
    "def kelvinArankine(t): return t * 1.8\n",
    "def kelvinAreaumur(t): return (t - 273.15) * 0.8\n",
    "\n",
    "def rankineAcelsius(t): return (t - 491.67) / 1.8\n",
    "def rankineAfahrenheit(t): return t - 459.67\n",
    "def rankineAkelvin(t): return t / 1.8\n",
    "def rankineAreaumur(t): return (t - 491.67) * 0.44\n",
    "\n",
    "def reaumurAcelsius(t): return t * 1.25\n",
    "def reaumurAfahrenheit(t): return (t * 2.25) + 32\n",
    "def reaumurAkelvin(t): return (t * 1.25) + 273.15\n",
    "def reaumurArankine(t): return (t * 2.25) + 491.67\n",
    "\n",
    "# dependediendo de las unidades iniciales, llamamos las fucniones nicesarias, y el resultado lo almazenamos\n",
    "# en una nueva variable\n",
    "if unidadInicial == 1:  \n",
    "    celAfah = celsiusAfahrenheit(temperatura)\n",
    "    celAkel = celsiusAkelvin(temperatura)\n",
    "    celAran = celsiusArankine(temperatura)\n",
    "    celArea = celsiusAreaumur(temperatura)\n",
    "    print(f\"{temperatura}°C= {celAfah:.2f}°F = {celAkel:.2f}K = {celAran:.2f}°R = {celArea:.2f}°Ré\")\n",
    "\n",
    "elif unidadInicial == 2:  \n",
    "    fahAcel = fahrenheitAcelsius(temperatura)\n",
    "    fahAkel = fahrenheitAkelvin(temperatura)\n",
    "    fahAran = fahrenheitArankine(temperatura)\n",
    "    fahArea = fahrenheitAreaumur(temperatura)\n",
    "    print(f\"{temperatura}°F = {fahAcel:.2f}°C = {fahAkel:.2f}K = {fahAran:.2f}°R = {fahArea:.2f}°Ré\")\n",
    "\n",
    "elif unidadInicial == 3:  \n",
    "    kelAcel = kelvinAcelsius(temperatura)\n",
    "    kelAfah = kelvinAfahrenheit(temperatura)\n",
    "    kelAran = kelvinArankine(temperatura)\n",
    "    kelArea = kelvinAreaumur(temperatura)\n",
    "    print(f\"{temperatura}K = {kelAcel:.2f}°C = {kelAfah:.2f}°F = {kelAran:.2f}°R = {kelArea:.2f}°Ré\")\n",
    "\n",
    "elif unidadInicial == 4:  \n",
    "    ranAcel = rankineAcelsius(temperatura)\n",
    "    ranAfah = rankineAfahrenheit(temperatura)\n",
    "    ranAkel = rankineAkelvin(temperatura)\n",
    "    ranArea = rankineAreaumur(temperatura)\n",
    "    print(f\"{temperatura}°R = {ranAcel:.2f}°C = {ranAfah:.2f}°F = {ranAkel:.2f}K = {ranArea:.2f}°Ré\")\n",
    "\n",
    "elif unidadInicial == 5:  \n",
    "    reaAcel = reaumurAcelsius(temperatura)\n",
    "    reaAfah = reaumurAfahrenheit(temperatura)\n",
    "    reaAkel = reaumurAkelvin(temperatura)\n",
    "    reaAran = reaumurArankine(temperatura)\n",
    "    print(f\"{temperatura}°Ré = {reaAcel:.2f}°C = {reaAfah:.2f}°F = {reaAkel:.2f}K = {reaAran:.2f}°R\")\n"
   ]
  },
  {
   "cell_type": "markdown",
   "metadata": {},
   "source": [
    "- Exercici 3\n",
    "Comptador de paraules d'un text.\n",
    "\n",
    "Escriu una funció que donat un text, mostri les vegades que apareix cada paraula."
   ]
  },
  {
   "cell_type": "code",
   "execution_count": 7,
   "metadata": {},
   "outputs": [],
   "source": [
    "import re "
   ]
  },
  {
   "cell_type": "code",
   "execution_count": 8,
   "metadata": {},
   "outputs": [],
   "source": [
    "def conta (texto):               \n",
    "    palabras = re.split(r\"[,.!?¿¡\\s\\n]+\", texto.lower())  \n",
    "    contador = {} \n",
    "    for x in palabras:                \n",
    "        if x in contador:\n",
    "            contador[x]+=1\n",
    "        else:\n",
    "            contador[x]=1\n",
    "    return contador"
   ]
  },
  {
   "cell_type": "code",
   "execution_count": 10,
   "metadata": {},
   "outputs": [
    {
     "name": "stdout",
     "output_type": "stream",
     "text": [
      "hola:2\n",
      "como:2\n",
      "estas:2\n"
     ]
    }
   ],
   "source": [
    "frase = str(input(\"Dame una frase:\"))\n",
    "resultado = conta(frase)\n",
    "resultado\n",
    "for key, value in resultado.items():\n",
    "    print(f\"{key}:{value}\") "
   ]
  },
  {
   "cell_type": "markdown",
   "metadata": {},
   "source": [
    "- Exercici 4\n",
    "Diccionari invers.\n",
    "\n",
    "Resulta que el client té una enquesta molt antiga que s'emmagatzema en un diccionari i els resultats els necessita al revés, és a dir, intercanviats les claus i els valors. Els valors i claus en el diccionari original són únics; si aquest no és el cas, la funció hauria d'imprimir un missatge d'advertiment."
   ]
  },
  {
   "cell_type": "code",
   "execution_count": 11,
   "metadata": {},
   "outputs": [],
   "source": [
    "\n",
    "\n",
    "def dicc_inverso (dicc_inicial):\n",
    "    diccionario_nuevo={}\n",
    "    for llaves, valores in dicc_inicial.items():    \n",
    "        if valores in diccionario_nuevo:           \n",
    "            return(\"error\")\n",
    "        else:\n",
    "            diccionario_nuevo[valores]= llaves              \n",
    "    return(diccionario_nuevo)                              \n",
    "\n",
    "\n",
    "\n"
   ]
  },
  {
   "cell_type": "code",
   "execution_count": null,
   "metadata": {},
   "outputs": [
    {
     "data": {
      "text/plain": [
       "{'a': 1, 'b': 2, 'c': 3}"
      ]
     },
     "execution_count": 12,
     "metadata": {},
     "output_type": "execute_result"
    }
   ],
   "source": [
    "rango_dicc = int(input(\"Dame la cantidad de registros para el diccionario:\"))\n",
    "diccionario_inicial={}\n",
    "for x in range(rango_dicc):              \n",
    "    key = int(input(\"Dame la llave:\"))\n",
    "    value= str(input(\"Dame el valor\"))\n",
    "    diccionario_inicial.update({key:value})       \n",
    "resultado1= dicc_inverso(diccionario_inicial)      \n",
    "resultado1                                          "
   ]
  },
  {
   "cell_type": "code",
   "execution_count": 13,
   "metadata": {},
   "outputs": [
    {
     "data": {
      "text/plain": [
       "{4: 1, 6: 2, 8: 3}"
      ]
     },
     "execution_count": 13,
     "metadata": {},
     "output_type": "execute_result"
    }
   ],
   "source": [
    "dic34={1:4 ,2 : 6, 3 : 8}\n",
    "\n",
    "dicc_inverso(dic34)"
   ]
  },
  {
   "cell_type": "markdown",
   "metadata": {},
   "source": [
    "Nivell 2\n",
    "\n",
    "\n",
    "Exercici 1\n",
    "Diccionari invers amb duplicats\n",
    "\n",
    "Continuant amb l'exercici 4 del nivell 1: al client es va oblidar de comentar un detall i resulta que els valors en el diccionari original poden duplicar-se i més, per la qual cosa les claus intercanviades poden tenir duplicats. En aquest cas, en l'exercici anterior imprimies un missatge d'advertiment, ara, els valors del diccionari resultant hauran d'emmagatzemar-se com una llista. Tingues en compte que si és un valor únic no ha de ser una llista."
   ]
  },
  {
   "cell_type": "code",
   "execution_count": 14,
   "metadata": {},
   "outputs": [],
   "source": [
    "import collections"
   ]
  },
  {
   "cell_type": "code",
   "execution_count": 17,
   "metadata": {},
   "outputs": [],
   "source": [
    "def dicc_inverso1 (dicc_inicial):\n",
    " \n",
    "    veces_value= collections.Counter(dicc_inicial.values())\n",
    "    diccionario_nuevo = {}\n",
    "    for x, y in dicc_inicial.items():\n",
    "        if veces_value[y] == 1:\n",
    "            diccionario_nuevo[y] = x\n",
    "        else:\n",
    "            if y not in diccionario_nuevo:\n",
    "                diccionario_nuevo[y]= []\n",
    "            diccionario_nuevo[y].append(x)\n",
    "    \n",
    "    return diccionario_nuevo                           \n"
   ]
  },
  {
   "cell_type": "code",
   "execution_count": 18,
   "metadata": {},
   "outputs": [
    {
     "data": {
      "text/plain": [
       "{1: ['a', 'b'], 3: 'c'}"
      ]
     },
     "execution_count": 18,
     "metadata": {},
     "output_type": "execute_result"
    }
   ],
   "source": [
    "di= {\"a\":1, \"b\":1, \"c\":3 }\n",
    "resultado2=dicc_inverso1(di) \n",
    "resultado2"
   ]
  },
  {
   "cell_type": "markdown",
   "metadata": {},
   "source": [
    "Exercici 2\n",
    "\n",
    "Conversió de tipus de dades\n",
    "\n",
    "El client rep una llista de dades i necessita generar dues llistes, la primera on estaran tots els elements que es van poder convertir en flotants i l'altra on estan els elements que no es van poder convertir. Exemple de la llista que rep el client: [ '1.3', 'one' , '1e10' , 'seven', '3-1/2', ('2',1,1.4,'not-a-number'), [1,2,'3','3.4']]\n",
    "\n"
   ]
  },
  {
   "cell_type": "markdown",
   "metadata": {},
   "source": [
    "### isistance verifica si x es una lista o tupla\n",
    "### for v in x:   itera sobre elementos dentro de la x"
   ]
  },
  {
   "cell_type": "code",
   "execution_count": null,
   "metadata": {},
   "outputs": [],
   "source": [
    "def conversio(valores):\n",
    "    lista1= []\n",
    "    lista2=[]\n",
    "     \n",
    "    for x in valores:\n",
    "        if isinstance(x,(list, tuple)):     \n",
    "            for v in x:                      \n",
    "                try:\n",
    "                    float(v)\n",
    "                    lista1.append(v)\n",
    "                except:\n",
    "                    lista2.append(v)\n",
    "        else:\n",
    "            try:\n",
    "                float(x)\n",
    "                lista1.append(x)\n",
    "            except:\n",
    "                lista2.append(x)\n",
    "   \n",
    "    return (lista1, lista2)\n",
    "\n"
   ]
  },
  {
   "cell_type": "code",
   "execution_count": 489,
   "metadata": {},
   "outputs": [
    {
     "data": {
      "text/plain": [
       "(['1.3', '1e10', '2', 1, 1.4, 1, 2, '3', '3.4'],\n",
       " ['one', 'seven', '3-1/2', 'not-a-number'])"
      ]
     },
     "execution_count": 489,
     "metadata": {},
     "output_type": "execute_result"
    }
   ],
   "source": [
    "lista_ej = [ '1.3', 'one' , '1e10' , 'seven', '3-1/2', ('2',1,1.4,'not-a-number'), [1,2,'3','3.4']]\n",
    "resultado3=conversio(lista_ej)\n",
    "resultado3"
   ]
  },
  {
   "cell_type": "markdown",
   "metadata": {},
   "source": [
    "Nivell 3\n",
    "\n",
    "Exercici 1\n",
    "\n",
    "Comptador i endreçador de paraules d'un text.\n",
    "\n",
    "El client va quedar content amb el comptador de paraules, però ara vol llegir arxius TXT i que calculi la freqüència de cada paraula ordenades dins de les entrades habituals del diccionari segons la lletra amb la qual comencen, és a dir, les claus han d'anar de la A a la Z i dins de la A hem d'anar de la A la Z. Per exemple, per a l'arxiu \"tu_me_quieres_blanca.txt\" la sortida esperada seria:"
   ]
  },
  {
   "cell_type": "code",
   "execution_count": 520,
   "metadata": {},
   "outputs": [
    {
     "data": {
      "text/plain": [
       "'!\"#$%&\\'()*+,-./:;<=>?@[\\\\]^_`{|}~'"
      ]
     },
     "execution_count": 520,
     "metadata": {},
     "output_type": "execute_result"
    }
   ],
   "source": [
    "import string\n",
    "string.punctuation"
   ]
  },
  {
   "cell_type": "markdown",
   "metadata": {},
   "source": [
    "### utf-8 para poder leer los acentos"
   ]
  },
  {
   "cell_type": "code",
   "execution_count": 20,
   "metadata": {},
   "outputs": [
    {
     "name": "stdout",
     "output_type": "stream",
     "text": [
      "['a', 'a', 'a', 'agua', 'al', 'al', 'alba', 'alba', 'alba', 'alba', 'alcobas', 'alimenta', 'alma', 'amarga', 'azucena', 'baco', 'banquete', 'bebe', 'blanca', 'blanca', 'blanca', 'boca', 'bosques', 'buen', 'cabañas', 'carnes', 'carnes', 'casta', 'casta', 'casta', 'cerrada', 'con', 'con', 'con', 'con', 'conservas', 'copas', 'corola', 'corriste', 'cuando', 'cuando', 'cubierto', 'cuerpo', 'cuáles', 'de', 'de', 'de', 'de', 'de', 'de', 'de', 'de', 'dejaste', 'del', 'diga', 'dios', 'dios', 'duerme', 'el', 'el', 'el', 'el', 'ellas', 'en', 'en', 'en', 'en', 'engaño', 'enredada', 'entonces', 'escarcha', 'espumas', 'esqueleto', 'estrago', 'festejando', 'filtrado', 'frutos', 'habla', 'hacia', 'haya', 'hayas', 'hermana', 'hombre', 'hubiste', 'huye', 'intacto', 'jardines', 'la', 'la', 'la', 'labios', 'las', 'las', 'las', 'las', 'las', 'las', 'las', 'lo', 'lo', 'los', 'los', 'los', 'los', 'luna', 'lévate', 'límpiate', 'mano', 'manos', 'margarita', 'me', 'me', 'me', 'me', 'me', 'me', 'me', 'me', 'me', 'me', 'mi', 'mieles', 'milagros', 'mojada', 'montaña', 'morados', 'negros', 'ni', 'ni', 'no', 'nácar', 'nívea', 'nívea', 'perdone', 'perdone', 'perfume', 'por', 'por', 'pretendes', 'pretendes', 'pretendes', 'preténdeme', 'preténdeme', 'preténdeme', 'puesto', 'pájaros', 'pámpanos', 'que', 'que', 'que', 'que', 'que', 'que', 'quedó', 'quieres', 'quieres', 'quieres', 'quieres', 'quieres', 'quieres', 'rayo', 'raíz', 'renueva', 'rocas', 'rojo', 'salitre', 'se', 'se', 'sea', 'sean', 'sobre', 'sobre', 'sé', 'te', 'te', 'te', 'tejidos', 'tenue', 'tierra', 'toca', 'todas', 'todas', 'todavía', 'tornadas', 'tú', 'tú', 'tú', 'tú', 'tú', 'tú', 'tú', 'tú', 'un', 'una', 'vestido', 'vete', 'vive', 'y', 'y', 'y', 'y', 'y']\n"
     ]
    }
   ],
   "source": [
    "ruta_archivo = r\"C:\\Users\\marya\\Desktop\\Data Analytics\\tu_me_quieres_blanca.txt\"\n",
    "file = open(ruta_archivo, \"r\", encoding=\"utf-8\")    \n",
    "contenido= file.read()\n",
    "palabra = re.split(r\"['',.;:()!¡\\s\\n]+\", contenido.lower())\n",
    "palabras = [palabra for palabra in palabra if palabra != ''] \n",
    "palabras_ordenadas= sorted(palabras)\n",
    "print(palabras_ordenadas)                                             \n",
    "\n",
    "    "
   ]
  },
  {
   "cell_type": "markdown",
   "metadata": {},
   "source": [
    "### palabras = [palabra for palabra in palabras if palabra != ''] \n",
    "nueva_lista = [expresión for item in iterable if condición]\n",
    "expresion: lo que quieres hacer, o valor que quieres agregar a la nueva lista\n",
    "Crea una nueva lista tomando cada elemento (palabra) de la lista original palabras"
   ]
  },
  {
   "cell_type": "code",
   "execution_count": 21,
   "metadata": {},
   "outputs": [],
   "source": [
    "def listado(poema):\n",
    "    dicc = {}\n",
    "    contador_palabras  = collections.Counter(poema)\n",
    "    for palabra, veces in contador_palabras.items():\n",
    "        primera_letra = palabra[0]\n",
    "        if primera_letra not in dicc:    \n",
    "           dicc[primera_letra]={}\n",
    "        dicc[primera_letra][palabra]= [veces]\n",
    "         \n",
    "    return (dicc)\n"
   ]
  },
  {
   "cell_type": "code",
   "execution_count": 22,
   "metadata": {},
   "outputs": [
    {
     "data": {
      "text/plain": [
       "{'a': {'a': [3],\n",
       "  'agua': [1],\n",
       "  'al': [2],\n",
       "  'alba': [4],\n",
       "  'alcobas': [1],\n",
       "  'alimenta': [1],\n",
       "  'alma': [1],\n",
       "  'amarga': [1],\n",
       "  'azucena': [1]},\n",
       " 'b': {'baco': [1],\n",
       "  'banquete': [1],\n",
       "  'bebe': [1],\n",
       "  'blanca': [3],\n",
       "  'boca': [1],\n",
       "  'bosques': [1],\n",
       "  'buen': [1]},\n",
       " 'c': {'cabañas': [1],\n",
       "  'carnes': [2],\n",
       "  'casta': [3],\n",
       "  'cerrada': [1],\n",
       "  'con': [4],\n",
       "  'conservas': [1],\n",
       "  'copas': [1],\n",
       "  'corola': [1],\n",
       "  'corriste': [1],\n",
       "  'cuando': [2],\n",
       "  'cubierto': [1],\n",
       "  'cuerpo': [1],\n",
       "  'cuáles': [1]},\n",
       " 'd': {'de': [8],\n",
       "  'dejaste': [1],\n",
       "  'del': [1],\n",
       "  'diga': [1],\n",
       "  'dios': [2],\n",
       "  'duerme': [1]},\n",
       " 'e': {'el': [4],\n",
       "  'ellas': [1],\n",
       "  'en': [4],\n",
       "  'engaño': [1],\n",
       "  'enredada': [1],\n",
       "  'entonces': [1],\n",
       "  'escarcha': [1],\n",
       "  'espumas': [1],\n",
       "  'esqueleto': [1],\n",
       "  'estrago': [1]},\n",
       " 'f': {'festejando': [1], 'filtrado': [1], 'frutos': [1]},\n",
       " 'h': {'habla': [1],\n",
       "  'hacia': [1],\n",
       "  'haya': [1],\n",
       "  'hayas': [1],\n",
       "  'hermana': [1],\n",
       "  'hombre': [1],\n",
       "  'hubiste': [1],\n",
       "  'huye': [1]},\n",
       " 'i': {'intacto': [1]},\n",
       " 'j': {'jardines': [1]},\n",
       " 'l': {'la': [3],\n",
       "  'labios': [1],\n",
       "  'las': [7],\n",
       "  'lo': [2],\n",
       "  'los': [4],\n",
       "  'luna': [1],\n",
       "  'lévate': [1],\n",
       "  'límpiate': [1]},\n",
       " 'm': {'mano': [1],\n",
       "  'manos': [1],\n",
       "  'margarita': [1],\n",
       "  'me': [10],\n",
       "  'mi': [1],\n",
       "  'mieles': [1],\n",
       "  'milagros': [1],\n",
       "  'mojada': [1],\n",
       "  'montaña': [1],\n",
       "  'morados': [1]},\n",
       " 'n': {'negros': [1], 'ni': [2], 'no': [1], 'nácar': [1], 'nívea': [2]},\n",
       " 'p': {'perdone': [2],\n",
       "  'perfume': [1],\n",
       "  'por': [2],\n",
       "  'pretendes': [3],\n",
       "  'preténdeme': [3],\n",
       "  'puesto': [1],\n",
       "  'pájaros': [1],\n",
       "  'pámpanos': [1]},\n",
       " 'q': {'que': [6], 'quedó': [1], 'quieres': [6]},\n",
       " 'r': {'rayo': [1], 'raíz': [1], 'renueva': [1], 'rocas': [1], 'rojo': [1]},\n",
       " 's': {'salitre': [1],\n",
       "  'se': [2],\n",
       "  'sea': [1],\n",
       "  'sean': [1],\n",
       "  'sobre': [2],\n",
       "  'sé': [1]},\n",
       " 't': {'te': [3],\n",
       "  'tejidos': [1],\n",
       "  'tenue': [1],\n",
       "  'tierra': [1],\n",
       "  'toca': [1],\n",
       "  'todas': [2],\n",
       "  'todavía': [1],\n",
       "  'tornadas': [1],\n",
       "  'tú': [8]},\n",
       " 'u': {'un': [1], 'una': [1]},\n",
       " 'v': {'vestido': [1], 'vete': [1], 'vive': [1]},\n",
       " 'y': {'y': [5]}}"
      ]
     },
     "execution_count": 22,
     "metadata": {},
     "output_type": "execute_result"
    }
   ],
   "source": [
    "\n",
    "resultado4=listado(palabras_ordenadas)\n",
    "resultado4\n"
   ]
  }
 ],
 "metadata": {
  "kernelspec": {
   "display_name": "Python 3",
   "language": "python",
   "name": "python3"
  },
  "language_info": {
   "codemirror_mode": {
    "name": "ipython",
    "version": 3
   },
   "file_extension": ".py",
   "mimetype": "text/x-python",
   "name": "python",
   "nbconvert_exporter": "python",
   "pygments_lexer": "ipython3",
   "version": "3.13.2"
  }
 },
 "nbformat": 4,
 "nbformat_minor": 2
}
